{
  "nbformat": 4,
  "nbformat_minor": 0,
  "metadata": {
    "colab": {
      "name": "Snippets.ipynb",
      "provenance": [],
      "authorship_tag": "ABX9TyMLXct0TkWxNkIWHjF4iu0B",
      "include_colab_link": true
    },
    "kernelspec": {
      "name": "python3",
      "display_name": "Python 3"
    }
  },
  "cells": [
    {
      "cell_type": "markdown",
      "metadata": {
        "id": "view-in-github",
        "colab_type": "text"
      },
      "source": [
        "<a href=\"https://colab.research.google.com/github/javiruiz/randomwalktest/blob/master/Snippets.ipynb\" target=\"_parent\"><img src=\"https://colab.research.google.com/assets/colab-badge.svg\" alt=\"Open In Colab\"/></a>"
      ]
    },
    {
      "cell_type": "code",
      "metadata": {
        "id": "_4vJqOjiPKzJ"
      },
      "source": [
        "def numeronymize(word, low=3, high=100, inverted=False):\n",
        "\tl = len(word)\n",
        "\tif l <= 2:\n",
        "\t\treturn word\n",
        "\tif not inverted:\n",
        "\t\tif low < l < high:\n",
        "\t\t\treturn word[0] + str(len(word) - 2) + word[-1]\n",
        "\t\telse:\n",
        "\t\t\treturn word\n",
        "\telse:\n",
        "\t\tif l <= low or l >= high :\n",
        "\t\t\treturn word[0] + str(len(word) - 2) + word[-1]\n",
        "\t\telse:\n",
        "\t\t\treturn word"
      ],
      "execution_count": 11,
      "outputs": []
    },
    {
      "cell_type": "code",
      "metadata": {
        "id": "UUTpGHGEPoyR"
      },
      "source": [
        "def numeronymize_text(text):\n",
        "\t# TODO Improve this and pass only the words, not the puntuaction signs\n",
        "\treturn \" \".join([numeronymize(word) for word in text.split(\" \")])\n",
        " "
      ],
      "execution_count": 12,
      "outputs": []
    },
    {
      "cell_type": "code",
      "metadata": {
        "id": "Em-YXYYUQy7g",
        "outputId": "f024b7f3-4533-4963-f382-df18bee43d1c",
        "colab": {
          "base_uri": "https://localhost:8080/"
        }
      },
      "source": [
        "print(numeronymize(\"Laureano\"))"
      ],
      "execution_count": 13,
      "outputs": [
        {
          "output_type": "stream",
          "text": [
            "L6o\n"
          ],
          "name": "stdout"
        }
      ]
    },
    {
      "cell_type": "code",
      "metadata": {
        "id": "mFIWvsCTPrpo",
        "outputId": "c67f3772-b452-4a8a-b761-0dc33fdb2a05",
        "colab": {
          "base_uri": "https://localhost:8080/"
        }
      },
      "source": [
        "print(numeronymize(\"perritó\"))"
      ],
      "execution_count": 14,
      "outputs": [
        {
          "output_type": "stream",
          "text": [
            "p5ó\n"
          ],
          "name": "stdout"
        }
      ]
    },
    {
      "cell_type": "code",
      "metadata": {
        "id": "0xTwm5Z9P2_c",
        "outputId": "8fa7c1ca-fffe-4f9b-a4d4-25b818741240",
        "colab": {
          "base_uri": "https://localhost:8080/"
        }
      },
      "source": [
        "print(numeronymize(u\"internationalization\"))\n"
      ],
      "execution_count": 5,
      "outputs": [
        {
          "output_type": "stream",
          "text": [
            "i18n\n"
          ],
          "name": "stdout"
        }
      ]
    },
    {
      "cell_type": "code",
      "metadata": {
        "id": "97tMZeD6P5zW",
        "outputId": "814f0b4d-0595-49e2-8d1e-7c7a90040acd",
        "colab": {
          "base_uri": "https://localhost:8080/"
        }
      },
      "source": [
        "print(numeronymize_text(\"En un lugar de la Mancha, de cuyo nombre no quiero acordarme...\"))"
      ],
      "execution_count": 8,
      "outputs": [
        {
          "output_type": "stream",
          "text": [
            "En un l3r de la M5, de c2o n4e no q4o a10.\n"
          ],
          "name": "stdout"
        }
      ]
    },
    {
      "cell_type": "code",
      "metadata": {
        "id": "Lif6g0qnP5xX"
      },
      "source": [
        ""
      ],
      "execution_count": null,
      "outputs": []
    }
  ]
}